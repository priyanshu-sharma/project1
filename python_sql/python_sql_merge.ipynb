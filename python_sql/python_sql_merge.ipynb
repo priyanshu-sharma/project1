{
 "cells": [
  {
   "cell_type": "markdown",
   "id": "7f0d8177-42ab-4943-95f9-4c1b4d4508cd",
   "metadata": {},
   "source": [
    "# Python SQL Merge"
   ]
  },
  {
   "cell_type": "code",
   "execution_count": 1,
   "id": "7885325c-4945-4f2e-a076-36e88674fe9d",
   "metadata": {},
   "outputs": [
    {
     "data": {
      "text/plain": [
       "' Python SQL Merge\\n\\n1. Write python code to do full load of table customer to customer_backup \\n2. In sql, do some update, delete and inserts on customer table.\\n3. Write python code to do incremental load Using merge statement to synchronize customer_backup table\\n'"
      ]
     },
     "execution_count": 1,
     "metadata": {},
     "output_type": "execute_result"
    }
   ],
   "source": [
    "\"\"\" Python SQL Merge\n",
    "\n",
    "1. Write python code to do full load of table customer to customer_backup \n",
    "2. In sql, do some update, delete and inserts on customer table.\n",
    "3. Write python code to do incremental load Using merge statement to synchronize customer_backup table\n",
    "\"\"\""
   ]
  },
  {
   "cell_type": "code",
   "execution_count": 2,
   "id": "6f47ea4a-cfa5-4994-80da-390f86a5f567",
   "metadata": {},
   "outputs": [],
   "source": [
    "import psycopg2"
   ]
  },
  {
   "cell_type": "code",
   "execution_count": 3,
   "id": "1ad046dc-eab5-4fd2-b5cc-82d54f9ecaff",
   "metadata": {},
   "outputs": [],
   "source": [
    "conn = psycopg2.connect(database = \"challenge1\", \n",
    "    user = \"postgres\", \n",
    "    host= 'localhost',\n",
    "    password = \"password\",\n",
    "    port = 5432)"
   ]
  },
  {
   "cell_type": "markdown",
   "id": "df353604-b18a-4f11-b1fa-870cca60ccef",
   "metadata": {},
   "source": [
    "## Question 1"
   ]
  },
  {
   "cell_type": "markdown",
   "id": "d8e3b5c2-934b-474c-b5d5-cc71ea792c4a",
   "metadata": {},
   "source": [
    "### Display Customer Table"
   ]
  },
  {
   "cell_type": "code",
   "execution_count": 4,
   "id": "672e0df1-4f78-46dd-aa55-178365c26c6d",
   "metadata": {},
   "outputs": [
    {
     "name": "stdout",
     "output_type": "stream",
     "text": [
      "[(4, 'Andrei', 'andrei@gmail.com', datetime.datetime(2024, 8, 6, 13, 21, 14, 869190)), (3, 'Gabe', 'gabe@gmail.com', datetime.datetime(2024, 8, 6, 15, 20, 59, 559442)), (1, 'Priyanshu', 'prynsh@gmail.com', datetime.datetime(2024, 8, 6, 15, 21, 37, 646911))]\n"
     ]
    }
   ],
   "source": [
    "def display_customer_table(conn):\n",
    "    cursor = conn.cursor() \n",
    "    sql = '''SELECT * FROM customer;'''\n",
    "    cursor.execute(sql) \n",
    "    results = cursor.fetchall() \n",
    "    print(results) \n",
    "    conn.commit()\n",
    "\n",
    "display_customer_table(conn)"
   ]
  },
  {
   "cell_type": "markdown",
   "id": "d4a3fbbc-a2f4-499d-b0fe-d691f703ad54",
   "metadata": {},
   "source": [
    "### Create Customer Backup One Table"
   ]
  },
  {
   "cell_type": "code",
   "execution_count": 5,
   "id": "9790788e-18cb-4c17-b795-f0c2de126558",
   "metadata": {},
   "outputs": [],
   "source": [
    "def create_customer_backup_one_table(conn):\n",
    "    cursor = conn.cursor() \n",
    "    sql = '''CREATE TABLE customer_backup_one AS TABLE customer WITH NO DATA;'''\n",
    "    cursor.execute(sql)\n",
    "    conn.commit()\n",
    "\n",
    "create_customer_backup_one_table(conn)"
   ]
  },
  {
   "cell_type": "markdown",
   "id": "743c3ba0-795d-4255-9ee1-ee140f1cde18",
   "metadata": {},
   "source": [
    "### Display Customer Backup One Table"
   ]
  },
  {
   "cell_type": "code",
   "execution_count": 6,
   "id": "41777fa4-966b-4bee-a5bb-d9f14bd05b90",
   "metadata": {},
   "outputs": [
    {
     "name": "stdout",
     "output_type": "stream",
     "text": [
      "[]\n"
     ]
    }
   ],
   "source": [
    "def display_customer_backup_one_table(conn):\n",
    "    cursor = conn.cursor() \n",
    "    sql = '''SELECT * FROM customer_backup_one;'''\n",
    "    cursor.execute(sql) \n",
    "    results = cursor.fetchall() \n",
    "    print(results) \n",
    "    conn.commit()\n",
    "\n",
    "display_customer_backup_one_table(conn)"
   ]
  },
  {
   "cell_type": "markdown",
   "id": "4c009e21-b4d5-4bf9-8a80-5a1d194bf184",
   "metadata": {},
   "source": [
    "### Merge Statement to load the entire customer table in customer_backup_one in one go"
   ]
  },
  {
   "cell_type": "code",
   "execution_count": 7,
   "id": "9b3c5c47-4500-41ab-b8bd-16675d230a0f",
   "metadata": {},
   "outputs": [
    {
     "name": "stdout",
     "output_type": "stream",
     "text": [
      "[(4, 'Andrei', 'andrei@gmail.com', datetime.datetime(2024, 8, 6, 13, 21, 14, 869190)), (1, 'Priyanshu', 'prynsh@gmail.com', datetime.datetime(2024, 8, 6, 15, 21, 37, 646911)), (3, 'Gabe', 'gabe@gmail.com', datetime.datetime(2024, 8, 6, 15, 20, 59, 559442))]\n"
     ]
    }
   ],
   "source": [
    "def merge_customer_backup_one_table(conn):\n",
    "    cursor = conn.cursor() \n",
    "    sql = '''MERGE INTO customer_backup_one cbo\n",
    "            USING customer c ON cbo.cid = c.cid\n",
    "            WHEN NOT MATCHED THEN\n",
    "               INSERT (cid, name, email, lastChange)\n",
    "               VALUES(c.cid, c.name, c.email, c.lastChange);'''\n",
    "    cursor.execute(sql) \n",
    "    conn.commit()\n",
    "\n",
    "merge_customer_backup_one_table(conn)\n",
    "display_customer_backup_one_table(conn)"
   ]
  },
  {
   "cell_type": "markdown",
   "id": "7e4215bc-0e43-4f00-b16f-245483b3754c",
   "metadata": {},
   "source": [
    "## Question 2 & 3"
   ]
  },
  {
   "cell_type": "markdown",
   "id": "625c78e7-462a-426c-bd9c-279655f32934",
   "metadata": {},
   "source": [
    "### Using insert, update and delete trigger to incrementally update the customer_backup_one table"
   ]
  },
  {
   "cell_type": "markdown",
   "id": "1a615e30-45a6-4783-bab3-a179aa316351",
   "metadata": {},
   "source": [
    "### Insert Trigger"
   ]
  },
  {
   "cell_type": "code",
   "execution_count": 8,
   "id": "09a2d66c-d8d4-423d-a168-40a5ed8d85a3",
   "metadata": {},
   "outputs": [],
   "source": [
    "def insert_trigger(conn):\n",
    "    cursor = conn.cursor()\n",
    "    sql = '''\n",
    "    CREATE OR REPLACE FUNCTION insertion_trigger()\n",
    "    RETURNS TRIGGER AS \n",
    "    $$\n",
    "    BEGIN\n",
    "        MERGE INTO customer_backup_one cbo\n",
    "        USING customer c ON cbo.cid = c.cid\n",
    "        WHEN NOT MATCHED THEN\n",
    "           INSERT (cid, name, email, lastChange)\n",
    "           VALUES(c.cid, c.name, c.email, c.lastChange);\n",
    "        RETURN NEW;\n",
    "    END;\n",
    "    $$ LANGUAGE plpgsql;'''\n",
    "    cursor.execute(sql)\n",
    "    conn.commit()\n",
    "    cursor = conn.cursor()\n",
    "    sql = '''\n",
    "    CREATE TRIGGER merge_insertion_trigger\n",
    "    AFTER INSERT ON customer\n",
    "    FOR EACH ROW\n",
    "    EXECUTE FUNCTION insertion_trigger();\n",
    "    '''\n",
    "    cursor.execute(sql)\n",
    "    conn.commit()\n",
    "\n",
    "insert_trigger(conn)"
   ]
  },
  {
   "cell_type": "markdown",
   "id": "94185c8a-ca7b-4694-b0ea-10a83ce3268b",
   "metadata": {},
   "source": [
    "### Testing the above insertion trigger"
   ]
  },
  {
   "cell_type": "code",
   "execution_count": 9,
   "id": "eee317cd-d971-49cb-bf0c-23edf4ee0308",
   "metadata": {},
   "outputs": [],
   "source": [
    "def insert_customer_table(conn, cid, name, email):\n",
    "    cursor = conn.cursor() \n",
    "    sql = '''INSERT INTO customer VALUES({}, '{}', '{}');'''.format(cid, name, email)\n",
    "    cursor.execute(sql) \n",
    "    conn.commit()"
   ]
  },
  {
   "cell_type": "code",
   "execution_count": 10,
   "id": "1774d9b7-7657-4374-8b32-da5a9d9f36af",
   "metadata": {},
   "outputs": [],
   "source": [
    "cid = 2\n",
    "name = 'Edwin'\n",
    "email = 'edwin@gmail.com'\n",
    "insert_customer_table(conn, cid, name, email)"
   ]
  },
  {
   "cell_type": "code",
   "execution_count": 11,
   "id": "ae1005fb-4164-464b-b53c-5ef539925cb9",
   "metadata": {},
   "outputs": [
    {
     "name": "stdout",
     "output_type": "stream",
     "text": [
      "[(4, 'Andrei', 'andrei@gmail.com', datetime.datetime(2024, 8, 6, 13, 21, 14, 869190)), (3, 'Gabe', 'gabe@gmail.com', datetime.datetime(2024, 8, 6, 15, 20, 59, 559442)), (1, 'Priyanshu', 'prynsh@gmail.com', datetime.datetime(2024, 8, 6, 15, 21, 37, 646911)), (2, 'Edwin', 'edwin@gmail.com', datetime.datetime(2024, 8, 6, 15, 37, 28, 885085))]\n"
     ]
    }
   ],
   "source": [
    "display_customer_table(conn)"
   ]
  },
  {
   "cell_type": "code",
   "execution_count": 12,
   "id": "7c2d7fdc-a1bb-4d90-b0ab-1805a98b2411",
   "metadata": {},
   "outputs": [
    {
     "name": "stdout",
     "output_type": "stream",
     "text": [
      "[(4, 'Andrei', 'andrei@gmail.com', datetime.datetime(2024, 8, 6, 13, 21, 14, 869190)), (1, 'Priyanshu', 'prynsh@gmail.com', datetime.datetime(2024, 8, 6, 15, 21, 37, 646911)), (3, 'Gabe', 'gabe@gmail.com', datetime.datetime(2024, 8, 6, 15, 20, 59, 559442)), (2, 'Edwin', 'edwin@gmail.com', datetime.datetime(2024, 8, 6, 15, 37, 28, 885085))]\n"
     ]
    }
   ],
   "source": [
    "display_customer_backup_one_table(conn)"
   ]
  },
  {
   "cell_type": "markdown",
   "id": "6ccfe62f-d14d-4f14-a2ef-7ae424b529b9",
   "metadata": {},
   "source": [
    "### Update Trigger"
   ]
  },
  {
   "cell_type": "code",
   "execution_count": 13,
   "id": "11faac5b-fa83-4ae8-a224-ce8c3f67d4ff",
   "metadata": {},
   "outputs": [],
   "source": [
    "def update_trigger(conn):\n",
    "    cursor = conn.cursor()\n",
    "    sql = '''\n",
    "    CREATE OR REPLACE FUNCTION updation_trigger()\n",
    "    RETURNS TRIGGER AS \n",
    "    $$\n",
    "    BEGIN\n",
    "        MERGE INTO customer_backup_one cbo\n",
    "        USING customer c ON cbo.cid = c.cid\n",
    "        WHEN MATCHED THEN\n",
    "            UPDATE SET\n",
    "               cid = c.cid,\n",
    "               name = c.name,\n",
    "               email = c.email,\n",
    "               lastChange = c.lastChange;\n",
    "        RETURN NEW;\n",
    "    END;\n",
    "    $$ LANGUAGE plpgsql;'''\n",
    "    cursor.execute(sql)\n",
    "    conn.commit()\n",
    "    cursor = conn.cursor()\n",
    "    sql = '''\n",
    "    CREATE TRIGGER merge_updation_trigger\n",
    "    AFTER UPDATE ON customer\n",
    "    FOR EACH ROW\n",
    "    EXECUTE FUNCTION updation_trigger();\n",
    "    '''\n",
    "    cursor.execute(sql)\n",
    "    conn.commit()\n",
    "\n",
    "update_trigger(conn)"
   ]
  },
  {
   "cell_type": "markdown",
   "id": "4eea52e4-a6b8-4b84-95c0-69072fa91223",
   "metadata": {},
   "source": [
    "### Testing the above updation trigger"
   ]
  },
  {
   "cell_type": "code",
   "execution_count": 15,
   "id": "0052b6a0-5d3e-4616-b4a8-6f9e3d6f17c1",
   "metadata": {},
   "outputs": [],
   "source": [
    "def update_customer_table(conn):\n",
    "    cursor = conn.cursor() \n",
    "    sql = '''UPDATE customer SET email = 'priyanshu@gmail.com' WHERE cid = 1;'''\n",
    "    cursor.execute(sql) \n",
    "    conn.commit()\n",
    "\n",
    "update_customer_table(conn)"
   ]
  },
  {
   "cell_type": "code",
   "execution_count": 16,
   "id": "7bbae8b4-741b-4ddf-ae6a-9335a431f54a",
   "metadata": {},
   "outputs": [
    {
     "name": "stdout",
     "output_type": "stream",
     "text": [
      "[(4, 'Andrei', 'andrei@gmail.com', datetime.datetime(2024, 8, 6, 13, 21, 14, 869190)), (3, 'Gabe', 'gabe@gmail.com', datetime.datetime(2024, 8, 6, 15, 20, 59, 559442)), (2, 'Edwin', 'edwin@gmail.com', datetime.datetime(2024, 8, 6, 15, 37, 28, 885085)), (1, 'Priyanshu', 'priyanshu@gmail.com', datetime.datetime(2024, 8, 6, 15, 37, 59, 147047))]\n"
     ]
    }
   ],
   "source": [
    "display_customer_table(conn)"
   ]
  },
  {
   "cell_type": "code",
   "execution_count": 17,
   "id": "3c329af7-96f5-4453-8edd-0b3e0b7e53cb",
   "metadata": {},
   "outputs": [
    {
     "name": "stdout",
     "output_type": "stream",
     "text": [
      "[(4, 'Andrei', 'andrei@gmail.com', datetime.datetime(2024, 8, 6, 13, 21, 14, 869190)), (1, 'Priyanshu', 'priyanshu@gmail.com', datetime.datetime(2024, 8, 6, 15, 37, 59, 147047)), (3, 'Gabe', 'gabe@gmail.com', datetime.datetime(2024, 8, 6, 15, 20, 59, 559442)), (2, 'Edwin', 'edwin@gmail.com', datetime.datetime(2024, 8, 6, 15, 37, 28, 885085))]\n"
     ]
    }
   ],
   "source": [
    "display_customer_backup_one_table(conn)"
   ]
  },
  {
   "cell_type": "markdown",
   "id": "0e1266de-96e6-44d3-994b-cdcfb5eba6cb",
   "metadata": {},
   "source": [
    "### Delete Trigger"
   ]
  },
  {
   "cell_type": "code",
   "execution_count": 23,
   "id": "6ae1f2d4-dcb1-4a6b-a565-70a4a7a6f952",
   "metadata": {},
   "outputs": [],
   "source": [
    "def delete_trigger(conn):\n",
    "    cursor = conn.cursor()\n",
    "    sql = '''\n",
    "    CREATE OR REPLACE FUNCTION deletion_trigger()\n",
    "    RETURNS TRIGGER AS \n",
    "    $$\n",
    "    BEGIN\n",
    "        MERGE INTO customer_backup_one cbo\n",
    "        USING customer c ON cbo.cid = c.cid\n",
    "        WHEN MATCHED and c.cid = OLD.cid THEN\n",
    "           DELETE;\n",
    "        RETURN OLD;\n",
    "    END;\n",
    "    $$ LANGUAGE plpgsql;'''\n",
    "    cursor.execute(sql)\n",
    "    conn.commit()\n",
    "    cursor = conn.cursor()\n",
    "    sql = '''\n",
    "    CREATE TRIGGER merge_deletion_trigger\n",
    "    BEFORE DELETE ON customer\n",
    "    FOR EACH ROW\n",
    "    EXECUTE FUNCTION deletion_trigger();\n",
    "    '''\n",
    "    cursor.execute(sql)\n",
    "    conn.commit()\n",
    "\n",
    "delete_trigger(conn)"
   ]
  },
  {
   "cell_type": "code",
   "execution_count": 27,
   "id": "32cfef64-cdc4-4142-bd7b-f5a782b573aa",
   "metadata": {},
   "outputs": [],
   "source": [
    "def delete_customer_table(conn):\n",
    "    cursor = conn.cursor() \n",
    "    sql = '''DELETE FROM customer WHERE cid = 2;'''\n",
    "    cursor.execute(sql) \n",
    "    conn.commit()\n",
    "\n",
    "delete_customer_table(conn)"
   ]
  },
  {
   "cell_type": "code",
   "execution_count": 28,
   "id": "c2d14b32-5bec-4304-82d2-ae1db53ae611",
   "metadata": {},
   "outputs": [
    {
     "name": "stdout",
     "output_type": "stream",
     "text": [
      "[(4, 'Andrei', 'andrei@gmail.com', datetime.datetime(2024, 8, 6, 13, 21, 14, 869190)), (1, 'Priyanshu', 'priyanshu@gmail.com', datetime.datetime(2024, 8, 6, 15, 37, 59, 147047))]\n"
     ]
    }
   ],
   "source": [
    "display_customer_table(conn)"
   ]
  },
  {
   "cell_type": "code",
   "execution_count": 29,
   "id": "4363e5bf-c7b0-4616-b803-4061b378723c",
   "metadata": {},
   "outputs": [
    {
     "name": "stdout",
     "output_type": "stream",
     "text": [
      "[(4, 'Andrei', 'andrei@gmail.com', datetime.datetime(2024, 8, 6, 13, 21, 14, 869190)), (1, 'Priyanshu', 'priyanshu@gmail.com', datetime.datetime(2024, 8, 6, 15, 37, 59, 147047))]\n"
     ]
    }
   ],
   "source": [
    "display_customer_backup_one_table(conn)"
   ]
  },
  {
   "cell_type": "code",
   "execution_count": 30,
   "id": "27f82222-cd28-428a-98c7-72b9e5001b5f",
   "metadata": {},
   "outputs": [],
   "source": [
    "conn.close()"
   ]
  }
 ],
 "metadata": {
  "kernelspec": {
   "display_name": "Python 3 (ipykernel)",
   "language": "python",
   "name": "python3"
  },
  "language_info": {
   "codemirror_mode": {
    "name": "ipython",
    "version": 3
   },
   "file_extension": ".py",
   "mimetype": "text/x-python",
   "name": "python",
   "nbconvert_exporter": "python",
   "pygments_lexer": "ipython3",
   "version": "3.12.4"
  }
 },
 "nbformat": 4,
 "nbformat_minor": 5
}
