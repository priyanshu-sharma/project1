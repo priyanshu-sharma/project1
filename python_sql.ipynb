{
 "cells": [
  {
   "cell_type": "markdown",
   "id": "7f0d8177-42ab-4943-95f9-4c1b4d4508cd",
   "metadata": {},
   "source": [
    "# Python SQL"
   ]
  },
  {
   "cell_type": "code",
   "execution_count": 1,
   "id": "7885325c-4945-4f2e-a076-36e88674fe9d",
   "metadata": {},
   "outputs": [
    {
     "data": {
      "text/plain": [
       "' Python SQL\\n\\nWrite python program to connect to MySQL challenge1 database and then\\n- Display sales table data on screen\\n- Insert row in sales table but collecting data from user -->\\n'"
      ]
     },
     "execution_count": 1,
     "metadata": {},
     "output_type": "execute_result"
    }
   ],
   "source": [
    "\"\"\" Python SQL\n",
    "\n",
    "Write python program to connect to MySQL challenge1 database and then\n",
    "- Display sales table data on screen\n",
    "- Insert row in sales table but collecting data from user -->\n",
    "\"\"\""
   ]
  },
  {
   "cell_type": "code",
   "execution_count": 2,
   "id": "6f47ea4a-cfa5-4994-80da-390f86a5f567",
   "metadata": {},
   "outputs": [],
   "source": [
    "import psycopg2"
   ]
  },
  {
   "cell_type": "code",
   "execution_count": 3,
   "id": "1ad046dc-eab5-4fd2-b5cc-82d54f9ecaff",
   "metadata": {},
   "outputs": [],
   "source": [
    "conn = psycopg2.connect(database = \"challenge1\", \n",
    "    user = \"postgres\", \n",
    "    host= 'localhost',\n",
    "    password = \"password\",\n",
    "    port = 5432)"
   ]
  },
  {
   "cell_type": "markdown",
   "id": "df353604-b18a-4f11-b1fa-870cca60ccef",
   "metadata": {},
   "source": [
    "## Question 1"
   ]
  },
  {
   "cell_type": "code",
   "execution_count": 4,
   "id": "672e0df1-4f78-46dd-aa55-178365c26c6d",
   "metadata": {},
   "outputs": [],
   "source": [
    "def display_sales_table(conn):\n",
    "    cursor = conn.cursor() \n",
    "    sql = '''SELECT * FROM sales;'''\n",
    "    cursor.execute(sql) \n",
    "    results = cursor.fetchall() \n",
    "    print(results) \n",
    "    conn.commit()"
   ]
  },
  {
   "cell_type": "code",
   "execution_count": 5,
   "id": "9790788e-18cb-4c17-b795-f0c2de126558",
   "metadata": {},
   "outputs": [
    {
     "name": "stdout",
     "output_type": "stream",
     "text": [
      "[('A', datetime.date(2021, 1, 1), 1), ('A', datetime.date(2021, 1, 1), 2), ('A', datetime.date(2021, 1, 7), 2), ('A', datetime.date(2021, 1, 10), 3), ('A', datetime.date(2021, 1, 11), 3), ('A', datetime.date(2021, 1, 11), 3), ('B', datetime.date(2021, 1, 1), 2), ('B', datetime.date(2021, 1, 2), 2), ('B', datetime.date(2021, 1, 4), 1), ('B', datetime.date(2021, 1, 11), 1), ('B', datetime.date(2021, 1, 16), 3), ('B', datetime.date(2021, 2, 1), 3), ('C', datetime.date(2021, 1, 1), 3), ('C', datetime.date(2021, 1, 1), 3), ('C', datetime.date(2021, 1, 7), 3)]\n"
     ]
    }
   ],
   "source": [
    "display_sales_table(conn)"
   ]
  },
  {
   "cell_type": "markdown",
   "id": "7e4215bc-0e43-4f00-b16f-245483b3754c",
   "metadata": {},
   "source": [
    "## Question 2"
   ]
  },
  {
   "cell_type": "code",
   "execution_count": 6,
   "id": "eee317cd-d971-49cb-bf0c-23edf4ee0308",
   "metadata": {},
   "outputs": [],
   "source": [
    "def insert_sales_table(conn, customer_id, order_date, product_id):\n",
    "    cursor = conn.cursor() \n",
    "    sql = '''INSERT INTO sales VALUES('{}', '{}', {});'''.format(customer_id, order_date, product_id)\n",
    "    print(sql)\n",
    "    cursor.execute(sql) \n",
    "    conn.commit()"
   ]
  },
  {
   "cell_type": "code",
   "execution_count": 7,
   "id": "1774d9b7-7657-4374-8b32-da5a9d9f36af",
   "metadata": {},
   "outputs": [
    {
     "name": "stdout",
     "output_type": "stream",
     "text": [
      "INSERT INTO sales VALUES('A', '2022-01-01', 2);\n"
     ]
    }
   ],
   "source": [
    "customer_id = 'A'\n",
    "order_date = '2022-01-01'\n",
    "product_id = 2\n",
    "insert_sales_table(conn, customer_id, order_date, product_id)"
   ]
  },
  {
   "cell_type": "code",
   "execution_count": 8,
   "id": "ae1005fb-4164-464b-b53c-5ef539925cb9",
   "metadata": {},
   "outputs": [
    {
     "name": "stdout",
     "output_type": "stream",
     "text": [
      "[('A', datetime.date(2021, 1, 1), 1), ('A', datetime.date(2021, 1, 1), 2), ('A', datetime.date(2021, 1, 7), 2), ('A', datetime.date(2021, 1, 10), 3), ('A', datetime.date(2021, 1, 11), 3), ('A', datetime.date(2021, 1, 11), 3), ('B', datetime.date(2021, 1, 1), 2), ('B', datetime.date(2021, 1, 2), 2), ('B', datetime.date(2021, 1, 4), 1), ('B', datetime.date(2021, 1, 11), 1), ('B', datetime.date(2021, 1, 16), 3), ('B', datetime.date(2021, 2, 1), 3), ('C', datetime.date(2021, 1, 1), 3), ('C', datetime.date(2021, 1, 1), 3), ('C', datetime.date(2021, 1, 7), 3), ('A', datetime.date(2022, 1, 1), 2)]\n"
     ]
    }
   ],
   "source": [
    "display_sales_table(conn)"
   ]
  },
  {
   "cell_type": "code",
   "execution_count": 9,
   "id": "27f82222-cd28-428a-98c7-72b9e5001b5f",
   "metadata": {},
   "outputs": [],
   "source": [
    "conn.close()"
   ]
  }
 ],
 "metadata": {
  "kernelspec": {
   "display_name": "Python 3 (ipykernel)",
   "language": "python",
   "name": "python3"
  },
  "language_info": {
   "codemirror_mode": {
    "name": "ipython",
    "version": 3
   },
   "file_extension": ".py",
   "mimetype": "text/x-python",
   "name": "python",
   "nbconvert_exporter": "python",
   "pygments_lexer": "ipython3",
   "version": "3.12.4"
  }
 },
 "nbformat": 4,
 "nbformat_minor": 5
}
